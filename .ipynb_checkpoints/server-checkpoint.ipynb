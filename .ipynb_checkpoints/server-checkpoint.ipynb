{
 "cells": [
  {
   "cell_type": "code",
   "execution_count": 1,
   "id": "85dfa515-9a41-4505-87cb-bb0e48a35f6d",
   "metadata": {
    "execution": {
     "iopub.execute_input": "2023-01-22T06:32:03.834140Z",
     "iopub.status.busy": "2023-01-22T06:32:03.833478Z",
     "iopub.status.idle": "2023-01-22T06:32:09.887989Z",
     "shell.execute_reply": "2023-01-22T06:32:09.886883Z",
     "shell.execute_reply.started": "2023-01-22T06:32:03.834049Z"
    },
    "tags": []
   },
   "outputs": [
    {
     "name": "stdout",
     "output_type": "stream",
     "text": [
      "Hosted the server at 65500\n",
      "Waiting for the connection to clients\n"
     ]
    },
    {
     "ename": "KeyboardInterrupt",
     "evalue": "",
     "output_type": "error",
     "traceback": [
      "\u001b[0;31m---------------------------------------------------------------------------\u001b[0m",
      "\u001b[0;31mKeyboardInterrupt\u001b[0m                         Traceback (most recent call last)",
      "Cell \u001b[0;32mIn [1], line 20\u001b[0m\n\u001b[1;32m     18\u001b[0m client_count \u001b[38;5;241m=\u001b[39m \u001b[38;5;241m0\u001b[39m\n\u001b[1;32m     19\u001b[0m \u001b[38;5;28;01mwhile\u001b[39;00m client_count \u001b[38;5;241m<\u001b[39m \u001b[38;5;28mlen\u001b[39m(CLIENT_PORTS):\n\u001b[0;32m---> 20\u001b[0m     connection, client_address \u001b[38;5;241m=\u001b[39m \u001b[43mserver_socket\u001b[49m\u001b[38;5;241;43m.\u001b[39;49m\u001b[43maccept\u001b[49m\u001b[43m(\u001b[49m\u001b[43m)\u001b[49m\n\u001b[1;32m     21\u001b[0m     \u001b[38;5;28;01mif\u001b[39;00m client_address[\u001b[38;5;241m1\u001b[39m] \u001b[38;5;129;01mnot\u001b[39;00m \u001b[38;5;129;01min\u001b[39;00m CLIENT_PORTS:\n\u001b[1;32m     22\u001b[0m         \u001b[38;5;28mprint\u001b[39m(\u001b[38;5;124m\"\u001b[39m\u001b[38;5;124mClient - \u001b[39m\u001b[38;5;132;01m{}\u001b[39;00m\u001b[38;5;124m not in the set of allowed ports\u001b[39m\u001b[38;5;124m\"\u001b[39m\u001b[38;5;241m.\u001b[39mformat(client_address))\n",
      "File \u001b[0;32m/usr/local/Cellar/python@3.9/3.9.16/Frameworks/Python.framework/Versions/3.9/lib/python3.9/socket.py:293\u001b[0m, in \u001b[0;36msocket.accept\u001b[0;34m(self)\u001b[0m\n\u001b[1;32m    286\u001b[0m \u001b[38;5;28;01mdef\u001b[39;00m \u001b[38;5;21maccept\u001b[39m(\u001b[38;5;28mself\u001b[39m):\n\u001b[1;32m    287\u001b[0m     \u001b[38;5;124;03m\"\"\"accept() -> (socket object, address info)\u001b[39;00m\n\u001b[1;32m    288\u001b[0m \n\u001b[1;32m    289\u001b[0m \u001b[38;5;124;03m    Wait for an incoming connection.  Return a new socket\u001b[39;00m\n\u001b[1;32m    290\u001b[0m \u001b[38;5;124;03m    representing the connection, and the address of the client.\u001b[39;00m\n\u001b[1;32m    291\u001b[0m \u001b[38;5;124;03m    For IP sockets, the address info is a pair (hostaddr, port).\u001b[39;00m\n\u001b[1;32m    292\u001b[0m \u001b[38;5;124;03m    \"\"\"\u001b[39;00m\n\u001b[0;32m--> 293\u001b[0m     fd, addr \u001b[38;5;241m=\u001b[39m \u001b[38;5;28;43mself\u001b[39;49m\u001b[38;5;241;43m.\u001b[39;49m\u001b[43m_accept\u001b[49m\u001b[43m(\u001b[49m\u001b[43m)\u001b[49m\n\u001b[1;32m    294\u001b[0m     sock \u001b[38;5;241m=\u001b[39m socket(\u001b[38;5;28mself\u001b[39m\u001b[38;5;241m.\u001b[39mfamily, \u001b[38;5;28mself\u001b[39m\u001b[38;5;241m.\u001b[39mtype, \u001b[38;5;28mself\u001b[39m\u001b[38;5;241m.\u001b[39mproto, fileno\u001b[38;5;241m=\u001b[39mfd)\n\u001b[1;32m    295\u001b[0m     \u001b[38;5;66;03m# Issue #7995: if no default timeout is set and the listening\u001b[39;00m\n\u001b[1;32m    296\u001b[0m     \u001b[38;5;66;03m# socket had a (non-zero) timeout, force the new socket in blocking\u001b[39;00m\n\u001b[1;32m    297\u001b[0m     \u001b[38;5;66;03m# mode to override platform-specific socket flags inheritance.\u001b[39;00m\n",
      "\u001b[0;31mKeyboardInterrupt\u001b[0m: "
     ]
    }
   ],
   "source": [
    "import socket\n",
    "from threading import Thread\n",
    "import pickle\n",
    "from util import *\n",
    "\n",
    "BALANCE_SHEET = {}\n",
    "CLIENT_MAP = {}\n",
    "\n",
    "class Server_Thread(Thread):\n",
    "    def __init__(self, connection, host, port):\n",
    "        Thread.__init__(self)\n",
    "        self.connection = connection\n",
    "        self.host = name\n",
    "        self.port = port\n",
    "\n",
    "    def run(self):\n",
    "        self.handle_messages()\n",
    "        self.connection.close()\n",
    "\n",
    "    def handle_messages(self):\n",
    "        while True:\n",
    "            request = self.connection.recv(buff_size)\n",
    "            data = pickle.loads(request)\n",
    "            if data.reqType == \"BALANCE\":\n",
    "                self.get_balance(data)\n",
    "            elif data.reqType == \"ADD_TRANSACTION\":\n",
    "                self.add_transaction(data)\n",
    "\n",
    "    def get_balance(self, data):\n",
    "        CLIENT_MAP[data.fromPid].connection.sendall(str(BALANCE_SHEET[data.fromPid]))\n",
    "\n",
    "    def add_transaction(self, data):\n",
    "        BALANCE_SHEET[data.transaction.sender] -= data.transaction.amount\n",
    "        BALANCE_SHEET[data.transaction.receiver] += data.transaction.amount\n",
    "        CLIENT_MAP[data.fromPid].connection.sendall(\"SUCCESSFUL\")\n",
    "\n",
    "def printBalance():\n",
    "    print(\"=========================================\")\n",
    "    for person in BALANCE_SHEET:\n",
    "        print(\"{} : {}\".format(CLIENT_INFO[person], BALANCE_SHEET[person]))\n",
    "    print(\"=========================================\")\n",
    "\n",
    "def main():\n",
    "    server_socket = socket.socket()\n",
    "    try:\n",
    "        server_socket.setsockopt(socket.SOL_SOCKET, socket.SO_REUSEADDR, 1)\n",
    "        server_socket.bind((HOST, SERVER_PORT))\n",
    "        print(\"Hosted the server at {}\".format(SERVER_PORT))\n",
    "    except socket.error as e:\n",
    "        print(str(e))\n",
    "\n",
    "    print(\"Waiting for the connection to clients\")\n",
    "    server_socket.listen(len(CLIENT_PORTS))\n",
    "\n",
    "    BALANCE_SHEET = {x: 10 for x in range(1, len(CLIENT_PORTS)+1)}\n",
    "\n",
    "    client_count = 0\n",
    "    while client_count < len(CLIENT_PORTS):\n",
    "        connection, client_address = server_socket.accept()\n",
    "        if client_address[1] not in CLIENT_PORTS:\n",
    "            print(\"Client - {} not in the set of allowed ports\".format(client_address))\n",
    "        print('Connected to: ' + client_address[0] + ':' + str(client_address[1]))\n",
    "        client= Server_Thread(connection, client_address[0], client_address[1])\n",
    "        client.start()\n",
    "        CLIENT_MAP[client_address[1]%10] = client\n",
    "        client_count+=1\n",
    "\n",
    "    while True:\n",
    "        print(\"type BALANCE to check the balance sheet\")\n",
    "        print(\"type Q to close the connection\")\n",
    "        user_input = input()\n",
    "        if user_input == \"BALANCE\":\n",
    "            print(printBalance())\n",
    "        elif user_input == \"Q\":\n",
    "            server_socket.close()\n",
    "            for connection in CLIENT_MAP.values():\n",
    "                connection.close()\n",
    "            break\n",
    "\n",
    "\n",
    "if __name__ == \"__main__\":\n",
    "    main()"
   ]
  },
  {
   "cell_type": "code",
   "execution_count": null,
   "id": "1f444fe1-e132-45fb-9c13-4c6351263667",
   "metadata": {
    "tags": []
   },
   "outputs": [],
   "source": []
  },
  {
   "cell_type": "code",
   "execution_count": null,
   "id": "f57948d0-a9d6-4d8a-98e9-360e0c44b855",
   "metadata": {},
   "outputs": [],
   "source": []
  }
 ],
 "metadata": {
  "kernelspec": {
   "display_name": "Python 3 (ipykernel)",
   "language": "python",
   "name": "python3"
  },
  "language_info": {
   "codemirror_mode": {
    "name": "ipython",
    "version": 3
   },
   "file_extension": ".py",
   "mimetype": "text/x-python",
   "name": "python",
   "nbconvert_exporter": "python",
   "pygments_lexer": "ipython3",
   "version": "3.9.16"
  }
 },
 "nbformat": 4,
 "nbformat_minor": 5
}
