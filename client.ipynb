{
 "cells": [
  {
   "cell_type": "code",
   "execution_count": 2,
   "id": "4625245e-1160-4790-8404-b66217d344f3",
   "metadata": {
    "execution": {
     "iopub.execute_input": "2023-01-25T02:38:32.982105Z",
     "iopub.status.busy": "2023-01-25T02:38:32.981420Z",
     "iopub.status.idle": "2023-01-25T02:38:32.989609Z",
     "shell.execute_reply": "2023-01-25T02:38:32.988607Z",
     "shell.execute_reply.started": "2023-01-25T02:38:32.982036Z"
    },
    "tags": []
   },
   "outputs": [],
   "source": [
    "import socket\n",
    "from threading import Thread\n",
    "import pickle\n",
    "import time \n",
    "from util import *\n",
    "\n",
    "BLOCKCHAIN = {}\n",
    "CLOCK = LamportClock(0,0)\n",
    "CONNECTIONS = {}\n",
    "PID = 0"
   ]
  },
  {
   "cell_type": "code",
   "execution_count": null,
   "id": "95ea5604-a348-4b6d-a2be-52ab9f4e41da",
   "metadata": {
    "tags": []
   },
   "outputs": [],
   "source": [
    "class Connections(Thread):\n",
    "    def __init__(self,connection):\n",
    "        Thread.__init__(self)\n",
    "        self.connection = connection\n",
    "\n",
    "    def run(self):\n",
    "        # global replyCount\n",
    "        # global requestPriorityQueue\n",
    "        # global transactionFlag\n",
    "        global CLOCK\n",
    "\n",
    "        while True:\n",
    "            response = self.connection.recv(buff_size)\n",
    "            data = pickle.loads(response)\n",
    "            CLOCK.updateClock(data.clock)\n",
    "            print(\"Current clock of process \" + str(PID) + \" is \" + str(CLOCK))\n",
    "\n",
    "            if data.reqType == \"MUTEX\":\n",
    "                requestPriorityQueue.append(LamportClock(data.reqClock.clock, data.reqClock.pid))\n",
    "                heapq.heapify(requestPriorityQueue)\n",
    "                print(\"REQUEST recieved from \" + str(data.fromPid) + \" at \" + str(CLOCK))\n",
    "                CLOCK.incrementClock()\n",
    "                sleep()\n",
    "                print(\"REPLY sent to \" + str(data.fromPid) + \" at \" + str(CLOCK))\n",
    "                print(\"Current clock of process \" + str(pid) + \" is \" + str(CLOCK))\n",
    "                reply = RequestMessage(PID, CLOCK, \"REPLY\")\n",
    "                self.connection.send(pickle.dumps(reply))\n",
    "\n",
    "            if data.reqType == \"REPLY\":\n",
    "                print(\"REPLY recieved from \" + str(data.fromPid) + \" at \" + str(CLOCK))\n",
    "                replyCount += 1\n",
    "                if replyCount == 2 and requestPriorityQueue[0].pid == PID:\n",
    "                    print(\"Local Queue:\")\n",
    "                    for i in requestPriorityQueue:\n",
    "                        print(str(i))\n",
    "                    self.handle_transaction(data)\n",
    "                    heapq.heappop(requestPriorityQueue)\n",
    "                    heapq.heapify(requestPriorityQueue)\n",
    "                    replyCount = 0\n",
    "                    broadcast(\"RELEASE\")\n",
    "                    transactionFlag = True\n",
    "\n",
    "#             if data.reqType == \"RELEASE\":\n",
    "#                 #print(\"Inside release\")\n",
    "#                 print(\"Local Queue:\")\n",
    "#                 for i in requestPriorityQueue:\n",
    "#                     print(str(i))\n",
    "#                 print(\"RELEASE recieved from \" + str(data.fromPid) + \" at \" + str(myClock))\n",
    "#                 heapq.heappop(requestPriorityQueue)\n",
    "#                 heapq.heapify(requestPriorityQueue)\n",
    "#                 if len(requestPriorityQueue) > 0 and requestPriorityQueue[0].pid == pid and replyCount == 2:\n",
    "#                     #print(\"Execute Transaction\")\n",
    "#                     self.handle_transaction(data)\n",
    "#                     heapq.heappop(requestPriorityQueue)\n",
    "#                     heapq.heapify(requestPriorityQueue)\n",
    "#                     replyCount = 0\n",
    "#                     #release = RequestMessage(pid, myClock, \"RELEASE\")\n",
    "#                     #myClock.incrementClock()\n",
    "#                     #print(\"Current clock of process \" + str(pid) + \" is \" + str(myClock))\n",
    "#                     #print(\"Sending RELEASE to all clients\")\n",
    "#                     broadcast(\"RELEASE\")\n",
    "#                     transactionFlag = True\n",
    "\n",
    "#     def handle_transaction(self, data):\n",
    "#         if user_input == \"BAL\":\n",
    "#             request = RequestMessage(pid, myClock,\"BALANCE\")\n",
    "#             myClock.incrementClock()\n",
    "#             sleep()\n",
    "#             print(\"Balance request sent to server\" + \" at \" + str(myClock))\n",
    "#             #print(\"Current clock of process \" + str(pid) + \" is \" + str(myClock))\n",
    "#             c2c_connections[0].sendall(pickle.dumps(request))\n",
    "#             #print(\"balance at 91\")\n",
    "\n",
    "#             balance = c2c_connections[0].recv(buff_size)\n",
    "#             myClock.incrementClock()\n",
    "#             #print(\"Current clock of process \" + str(pid) + \" is \" + str(myClock))\n",
    "#             sleep()\n",
    "#             print(\"=============================\")\n",
    "#             print(\"Balance is \" + str(balance))\n",
    "#             print(\"=============================\")\n",
    "#             #transactionFlag = True\n",
    "#         else:\n",
    "#             reciever, amount = user_input.split()\n",
    "\n",
    "#             transaction = Transaction(int(pid), int(reciever), int(amount))\n",
    "\n",
    "#             myClock.incrementClock()\n",
    "#             #print(\"Current clock of process \" + str(pid) + \" is \" + str(myClock))\n",
    "#             sleep()\n",
    "#             print(\"Balance request sent to server\" + \" at \" + str(myClock))\n",
    "#             request = RequestMessage(pid,myClock,\"BALANCE\")\n",
    "#             c2c_connections[0].sendall(pickle.dumps(request))\n",
    "#             balance = c2c_connections[0].recv(buff_size)\n",
    "#             myClock.incrementClock()\n",
    "#             #print(\"Current clock of process \" + str(pid) + \" is \" + str(myClock))\n",
    "#             sleep()\n",
    "#             print(\"======================================\")\n",
    "#             print(\"Balance before transaction \" + str(balance))\n",
    "\n",
    "#             if int(balance) >= int(amount):\n",
    "\n",
    "#                 myClock.incrementClock()\n",
    "#                 #print(\"Current clock of process \" + str(pid) + \" is \" + str(myClock))\n",
    "#                 request = RequestMessage(pid,myClock,\"LAST_BLOCK\")\n",
    "#                 c2c_connections[0].send(pickle.dumps(request))\n",
    "#                 last_blck_str = c2c_connections[0].recv(buff_size)\n",
    "\n",
    "#                 myClock.incrementClock()\n",
    "#                 #print(\"Current clock of process \" + str(pid) + \" is \" + str(myClock))\n",
    "#                 last_blck = pickle.loads(last_blck_str)\n",
    "#                 block = Block(hashlib.sha256(str(last_blck)).digest(), \n",
    "#                     Transaction(transaction.sender,transaction.reciever,transaction.amount))\n",
    "#                 request = RequestMessage(pid,data.clock,\"ADD_BLOCK\", None, block)\n",
    "\n",
    "#                 myClock.incrementClock()\n",
    "#                 #print(\"Current clock of process \" + str(pid) + \" is \" + str(myClock))\n",
    "#                 c2c_connections[0].send(pickle.dumps(request))\n",
    "\n",
    "#                 message = c2c_connections[0].recv(buff_size)\n",
    "#                 myClock.incrementClock()\n",
    "#                 #print(\"Current clock of process \" + str(pid) + \" is \" + str(myClock))\n",
    "#                 print(\"Transaction was \" + str(message))\n",
    "#                 print(\"Balance after transaction \" + str(int(balance) - int(amount)))\n",
    "#                 print(\"======================================\")\n",
    "#             else:\n",
    "#                 print(\"Insufficient Balance\")\n",
    "#                 print(\"======================================\")\n",
    "#             #transactionFlag = True\n",
    "\n",
    "def sleep():\n",
    "    time.sleep(SLEEP_TIME)\n",
    "\n",
    "def sendRequest(client, reqType, reqClock):\n",
    "    CLOCK.incrementClock()\n",
    "    print(\"Current clock of process \" + str(pid) + \" is \" + str(CLOCK))\n",
    "    sleep()\n",
    "    if reqType == \"MUTEX\":\n",
    "        print(\"REQUEST sent to \" + str(client) + \" at \" + str(CLOCK))\n",
    "    elif reqType == \"RELEASE\":\n",
    "        print(\"RELEASE sent to \" + str(client) + \" at \" + str(CLOCK))\n",
    "\n",
    "    msg = RequestMessage(PID, CLOCK, reqType, reqClock)\n",
    "    data_string = pickle.dumps(msg)\n",
    "    CONNECTIONS[client].sendall(data_string)\n",
    "\n",
    "def broadcast(reqType, reqClock = None):\n",
    "    for dest in range(1, CLIENT_COUNT+1):\n",
    "        if PID != dest:\n",
    "            sendRequest(dest, reqType, reqClock)"
   ]
  },
  {
   "cell_type": "code",
   "execution_count": null,
   "id": "83bc20b8-5d59-49da-b64e-073ae687cec1",
   "metadata": {},
   "outputs": [],
   "source": [
    "def close_sockets():\n",
    "    for connection in CONNECTIONS.values():\n",
    "        connection.close()\n",
    "\n",
    "def get_connection(source, dest):\n",
    "    client2client = socket.socket()\n",
    "    client2client.setsockopt(socket.SOL_SOCKET, socket.SO_REUSEADDR, 1)\n",
    "    client2client.bind((ip, CLIENT_TO_CLIENT_PORTS[source][dest]))\n",
    "    if dest > source:\n",
    "        # Accept the connection from the dest server\n",
    "        client2client.listen(1)\n",
    "        conn, client_address = client2client.accept()\n",
    "        print(\"Connected to Client {} at port {}\".format(dest, client_address[1]))\n",
    "        CONNECTIONS[dest] = conn\n",
    "        new_client = Connections(conn)\n",
    "        new_client.start()\n",
    "    else:\n",
    "        try:\n",
    "            client2client.connect((HOST, CLIENT_TO_CLIENT_PORTS[dest][source]))\n",
    "            print(\"Connected to Client {} at port {}\".format(dest, CLIENT_TO_CLIENT_PORTS[dest][source]))\n",
    "        except socket.error as e:\n",
    "            print(str(e))\n",
    "\n",
    "def main():\n",
    "    if int(sys.argv[1])>CLIENT_COUNT or int(sys.argv[1])<0:\n",
    "        print(\"PID not in the set of allowed pids\".format(sys.argv[1]))\n",
    "        exit()\n",
    "    PID = int(sys.argv[1])\n",
    "    current_port = CLIENT_TO_SERVER_PORTS[PID]\n",
    "    \n",
    "    # Connection to the server\n",
    "    print(\"Initiating connection to the server\")\n",
    "    # Bind to the current port\n",
    "    client_socket = socket.socket()\n",
    "    try:\n",
    "        client_socket.setsockopt(socket.SOL_SOCKET, socket.SO_REUSEADDR, 1)\n",
    "        client_socket.bind((HOST, current_port))\n",
    "        print(\"Hosted the client for server at {}\".format(current_port))\n",
    "    except socket.error as e:\n",
    "        print(str(e))\n",
    "        exit()\n",
    "    CLOCK = LamportClock(0, current_pid)\n",
    "    # Connect to the server\n",
    "    try:\n",
    "        client_socket.connect((HOST, SERVER_PORT))\n",
    "        print(\"Connected to server\")\n",
    "    except socket.error as e:\n",
    "        print(str(e))\n",
    "        exit()\n",
    "    \n",
    "    CONNECTIONS[0] = client_socket\n",
    "    \n",
    "    # Connection to the clients\n",
    "    for dest in range(1, CLIENT_COUNT+1):\n",
    "        if PID != dest:\n",
    "            get_connection(PID, dest)\n",
    "    \n",
    "    print(\"=======================================================\")\n",
    "    print(\"Current Balance is $10\")\n",
    "    \n",
    "    while True:\n",
    "        transactionFlag = False\n",
    "        print(\"=======================================================\")\n",
    "        print(\"| For Balance type : 'BAL'                              |\")\n",
    "        print(\"| For transferring money type : 'RECV_ID AMOUNT' Eg.(2 5)    |\")\n",
    "        print(\"| To quit type 'Q'                                    |\") \n",
    "        print(\"=======================================================\")\n",
    "        user_input = raw_input()\n",
    "\n",
    "        if user_input != \"Q\" and user_input != \"BAL\" and len(user_input.split()) != 2:\n",
    "            print(\"Please enter valid input\")\n",
    "            continue\n",
    "\n",
    "        if user_input == \"Q\":\n",
    "            break\n",
    "\n",
    "        CLOCK.incrementClock()\n",
    "        print(\"Current clock of process \" + str(pid) + \" : \" + str(myClock))\n",
    "        requestClock = LamportClock(CLOCK.clock, CLOCK.pid)\n",
    "        # requestPriorityQueue.append(requestClock)\n",
    "        # heapq.heapify(requestPriorityQueue)\n",
    "        # replyCount = 0\n",
    "\n",
    "        # broadcast(\"MUTEX\", requestClock)\n",
    "\n",
    "        # while transactionFlag == False:\n",
    "            # a=1\n",
    "\n",
    "    close_sockets()\n",
    "\n",
    "if __name__ == \"__main__\":\n",
    "    main()"
   ]
  },
  {
   "cell_type": "code",
   "execution_count": null,
   "id": "21a24cac-8b06-4a65-b240-fdb4e10af350",
   "metadata": {},
   "outputs": [],
   "source": []
  },
  {
   "cell_type": "code",
   "execution_count": 3,
   "id": "8277cfa3-48ca-459b-910c-65ae16ecb000",
   "metadata": {
    "execution": {
     "iopub.execute_input": "2023-01-25T06:07:49.648326Z",
     "iopub.status.busy": "2023-01-25T06:07:49.647670Z",
     "iopub.status.idle": "2023-01-25T06:07:49.725747Z",
     "shell.execute_reply": "2023-01-25T06:07:49.725032Z",
     "shell.execute_reply.started": "2023-01-25T06:07:49.648252Z"
    }
   },
   "outputs": [
    {
     "data": {
      "text/plain": [
       "util.RequestMessage"
      ]
     },
     "execution_count": 3,
     "metadata": {},
     "output_type": "execute_result"
    }
   ],
   "source": [
    "RequestMessage(2, LamportClock(0, 0), \"BAL)"
   ]
  },
  {
   "cell_type": "code",
   "execution_count": 7,
   "id": "2c56e99b-91dd-4825-9c56-4ec7785793f7",
   "metadata": {
    "execution": {
     "iopub.execute_input": "2023-01-25T06:26:22.815441Z",
     "iopub.status.busy": "2023-01-25T06:26:22.815074Z",
     "iopub.status.idle": "2023-01-25T06:26:22.821998Z",
     "shell.execute_reply": "2023-01-25T06:26:22.820560Z",
     "shell.execute_reply.started": "2023-01-25T06:26:22.815412Z"
    },
    "tags": []
   },
   "outputs": [
    {
     "data": {
      "text/plain": [
       "int"
      ]
     },
     "execution_count": 7,
     "metadata": {},
     "output_type": "execute_result"
    }
   ],
   "source": [
    "type(pickle.loads(pickle.dumps(20)))"
   ]
  },
  {
   "cell_type": "code",
   "execution_count": 8,
   "id": "9162c847-e88e-4f4e-9a22-46559143f934",
   "metadata": {
    "execution": {
     "iopub.execute_input": "2023-01-25T07:49:08.294953Z",
     "iopub.status.busy": "2023-01-25T07:49:08.292705Z",
     "iopub.status.idle": "2023-01-25T07:49:08.317413Z",
     "shell.execute_reply": "2023-01-25T07:49:08.315994Z",
     "shell.execute_reply.started": "2023-01-25T07:49:08.294853Z"
    }
   },
   "outputs": [
    {
     "data": {
      "text/plain": [
       "1"
      ]
     },
     "execution_count": 8,
     "metadata": {},
     "output_type": "execute_result"
    }
   ],
   "source": [
    "a, b = [1, 2]\n",
    "a"
   ]
  },
  {
   "cell_type": "code",
   "execution_count": 9,
   "id": "0b945090-6c3a-4961-83de-39c2bab8f515",
   "metadata": {
    "execution": {
     "iopub.execute_input": "2023-01-25T07:49:10.646018Z",
     "iopub.status.busy": "2023-01-25T07:49:10.644970Z",
     "iopub.status.idle": "2023-01-25T07:49:10.657071Z",
     "shell.execute_reply": "2023-01-25T07:49:10.656150Z",
     "shell.execute_reply.started": "2023-01-25T07:49:10.645969Z"
    }
   },
   "outputs": [
    {
     "data": {
      "text/plain": [
       "2"
      ]
     },
     "execution_count": 9,
     "metadata": {},
     "output_type": "execute_result"
    }
   ],
   "source": [
    "b"
   ]
  },
  {
   "cell_type": "code",
   "execution_count": 16,
   "id": "5192f4ed-c4fd-4a7c-bf00-2ad4b9c7b0fe",
   "metadata": {
    "execution": {
     "iopub.execute_input": "2023-01-25T07:54:19.495030Z",
     "iopub.status.busy": "2023-01-25T07:54:19.494675Z",
     "iopub.status.idle": "2023-01-25T07:54:19.502806Z",
     "shell.execute_reply": "2023-01-25T07:54:19.501864Z",
     "shell.execute_reply.started": "2023-01-25T07:54:19.495000Z"
    },
    "tags": []
   },
   "outputs": [
    {
     "data": {
      "text/plain": [
       "b'\\x8e*\\x8b\\xd9\\x96\\xc2\\x9b\\x99\\xc9\\tfN\\xe5\\x1e\\xb5\\xee;#X0jBi\\xd5\\xb6\\x9d\\xd9\\x90u\\xe6\\xdd\\x85'"
      ]
     },
     "execution_count": 16,
     "metadata": {},
     "output_type": "execute_result"
    }
   ],
   "source": [
    "import hashlib\n",
    "hashlib.sha256(pickle.dumps(\"\")).digest()"
   ]
  },
  {
   "cell_type": "code",
   "execution_count": 13,
   "id": "d0e34423-844a-4212-869b-be46f8b85944",
   "metadata": {
    "execution": {
     "iopub.execute_input": "2023-01-25T07:53:51.336255Z",
     "iopub.status.busy": "2023-01-25T07:53:51.335821Z",
     "iopub.status.idle": "2023-01-25T07:53:51.347232Z",
     "shell.execute_reply": "2023-01-25T07:53:51.345741Z",
     "shell.execute_reply.started": "2023-01-25T07:53:51.336223Z"
    }
   },
   "outputs": [
    {
     "data": {
      "text/plain": [
       "\u001b[0;31mSignature:\u001b[0m \u001b[0mhashlib\u001b[0m\u001b[0;34m.\u001b[0m\u001b[0msha256\u001b[0m\u001b[0;34m(\u001b[0m\u001b[0mstring\u001b[0m\u001b[0;34m=\u001b[0m\u001b[0;34mb''\u001b[0m\u001b[0;34m,\u001b[0m \u001b[0;34m*\u001b[0m\u001b[0;34m,\u001b[0m \u001b[0musedforsecurity\u001b[0m\u001b[0;34m=\u001b[0m\u001b[0;32mTrue\u001b[0m\u001b[0;34m)\u001b[0m\u001b[0;34m\u001b[0m\u001b[0;34m\u001b[0m\u001b[0m\n",
       "\u001b[0;31mDocstring:\u001b[0m Returns a sha256 hash object; optionally initialized with a string\n",
       "\u001b[0;31mType:\u001b[0m      builtin_function_or_method\n"
      ]
     },
     "metadata": {},
     "output_type": "display_data"
    }
   ],
   "source": [
    "hashlib.sha256?"
   ]
  },
  {
   "cell_type": "code",
   "execution_count": 17,
   "id": "792e42f0-05a4-4a9c-a6d6-803bfd31c322",
   "metadata": {
    "execution": {
     "iopub.execute_input": "2023-01-26T06:52:26.281502Z",
     "iopub.status.busy": "2023-01-26T06:52:26.280787Z",
     "iopub.status.idle": "2023-01-26T06:52:26.317610Z",
     "shell.execute_reply": "2023-01-26T06:52:26.315238Z",
     "shell.execute_reply.started": "2023-01-26T06:52:26.281429Z"
    }
   },
   "outputs": [
    {
     "data": {
      "text/plain": [
       "\u001b[0;31mSignature:\u001b[0m \u001b[0mlist\u001b[0m\u001b[0;34m.\u001b[0m\u001b[0minsert\u001b[0m\u001b[0;34m(\u001b[0m\u001b[0mself\u001b[0m\u001b[0;34m,\u001b[0m \u001b[0mindex\u001b[0m\u001b[0;34m,\u001b[0m \u001b[0mobject\u001b[0m\u001b[0;34m,\u001b[0m \u001b[0;34m/\u001b[0m\u001b[0;34m)\u001b[0m\u001b[0;34m\u001b[0m\u001b[0;34m\u001b[0m\u001b[0m\n",
       "\u001b[0;31mDocstring:\u001b[0m Insert object before index.\n",
       "\u001b[0;31mType:\u001b[0m      method_descriptor\n"
      ]
     },
     "metadata": {},
     "output_type": "display_data"
    }
   ],
   "source": [
    "list.insert"
   ]
  },
  {
   "cell_type": "code",
   "execution_count": 25,
   "id": "573c7cf2-68a6-45a4-8a4b-fc32f3359995",
   "metadata": {
    "execution": {
     "iopub.execute_input": "2023-01-26T06:53:57.986724Z",
     "iopub.status.busy": "2023-01-26T06:53:57.986244Z",
     "iopub.status.idle": "2023-01-26T06:53:57.993997Z",
     "shell.execute_reply": "2023-01-26T06:53:57.992905Z",
     "shell.execute_reply.started": "2023-01-26T06:53:57.986690Z"
    },
    "tags": []
   },
   "outputs": [
    {
     "data": {
      "text/plain": [
       "[1, 2, 20, 3, 4]"
      ]
     },
     "execution_count": 25,
     "metadata": {},
     "output_type": "execute_result"
    }
   ],
   "source": [
    "x = [1, 2, 3, 4]\n",
    "x.insert(2, 20)\n",
    "x"
   ]
  },
  {
   "cell_type": "code",
   "execution_count": 26,
   "id": "bcae93c7-02d4-4a50-8d18-09738029d7cb",
   "metadata": {
    "execution": {
     "iopub.execute_input": "2023-01-26T06:53:58.192355Z",
     "iopub.status.busy": "2023-01-26T06:53:58.191998Z",
     "iopub.status.idle": "2023-01-26T06:53:58.195768Z",
     "shell.execute_reply": "2023-01-26T06:53:58.195056Z",
     "shell.execute_reply.started": "2023-01-26T06:53:58.192332Z"
    },
    "tags": []
   },
   "outputs": [],
   "source": [
    "x.insert(5, 50)"
   ]
  },
  {
   "cell_type": "code",
   "execution_count": 27,
   "id": "85f69717-c929-41e1-a106-c230809874d8",
   "metadata": {
    "execution": {
     "iopub.execute_input": "2023-01-26T06:53:58.979120Z",
     "iopub.status.busy": "2023-01-26T06:53:58.978620Z",
     "iopub.status.idle": "2023-01-26T06:53:58.986518Z",
     "shell.execute_reply": "2023-01-26T06:53:58.985498Z",
     "shell.execute_reply.started": "2023-01-26T06:53:58.979081Z"
    },
    "tags": []
   },
   "outputs": [
    {
     "data": {
      "text/plain": [
       "[1, 2, 20, 3, 4, 50]"
      ]
     },
     "execution_count": 27,
     "metadata": {},
     "output_type": "execute_result"
    }
   ],
   "source": [
    "x"
   ]
  },
  {
   "cell_type": "code",
   "execution_count": 28,
   "id": "ac4d32cd-7fbe-4d07-ae38-e663f2f01e70",
   "metadata": {
    "execution": {
     "iopub.execute_input": "2023-01-26T06:53:59.568927Z",
     "iopub.status.busy": "2023-01-26T06:53:59.568616Z",
     "iopub.status.idle": "2023-01-26T06:53:59.573868Z",
     "shell.execute_reply": "2023-01-26T06:53:59.572817Z",
     "shell.execute_reply.started": "2023-01-26T06:53:59.568904Z"
    },
    "tags": []
   },
   "outputs": [
    {
     "data": {
      "text/plain": [
       "[1, 2, 20, 3, 4, 50, 80]"
      ]
     },
     "execution_count": 28,
     "metadata": {},
     "output_type": "execute_result"
    }
   ],
   "source": [
    "x.insert(7, 80)\n",
    "x"
   ]
  },
  {
   "cell_type": "code",
   "execution_count": 30,
   "id": "6b209b66-c609-40aa-9cf1-42381a871aec",
   "metadata": {
    "execution": {
     "iopub.execute_input": "2023-01-26T07:11:47.507850Z",
     "iopub.status.busy": "2023-01-26T07:11:47.507338Z",
     "iopub.status.idle": "2023-01-26T07:11:47.517569Z",
     "shell.execute_reply": "2023-01-26T07:11:47.515990Z",
     "shell.execute_reply.started": "2023-01-26T07:11:47.507817Z"
    },
    "tags": []
   },
   "outputs": [
    {
     "data": {
      "text/plain": [
       "[100, 1, 2, 20, 3, 4, 50, 100, 80]"
      ]
     },
     "execution_count": 30,
     "metadata": {},
     "output_type": "execute_result"
    }
   ],
   "source": [
    "x.insert(0, 100)\n",
    "x"
   ]
  },
  {
   "cell_type": "code",
   "execution_count": 31,
   "id": "380d1790-a937-4354-9cb4-2aeaa086a06b",
   "metadata": {
    "execution": {
     "iopub.execute_input": "2023-01-26T07:13:48.475568Z",
     "iopub.status.busy": "2023-01-26T07:13:48.472550Z",
     "iopub.status.idle": "2023-01-26T07:13:48.528430Z",
     "shell.execute_reply": "2023-01-26T07:13:48.525502Z",
     "shell.execute_reply.started": "2023-01-26T07:13:48.475460Z"
    }
   },
   "outputs": [
    {
     "name": "stdout",
     "output_type": "stream",
     "text": [
      "3\n",
      "2\n",
      "1\n",
      "0\n"
     ]
    }
   ],
   "source": [
    "for idx in range(3, -1, -1):\n",
    "    print(idx)"
   ]
  },
  {
   "cell_type": "code",
   "execution_count": 32,
   "id": "a6806d52-4b20-4c32-975a-cef30e0cda20",
   "metadata": {
    "execution": {
     "iopub.execute_input": "2023-01-26T07:14:12.752903Z",
     "iopub.status.busy": "2023-01-26T07:14:12.752129Z",
     "iopub.status.idle": "2023-01-26T07:14:12.758140Z",
     "shell.execute_reply": "2023-01-26T07:14:12.756769Z",
     "shell.execute_reply.started": "2023-01-26T07:14:12.752867Z"
    }
   },
   "outputs": [],
   "source": [
    "for idx in range(3, 3):\n",
    "    print(idx)"
   ]
  },
  {
   "cell_type": "code",
   "execution_count": 39,
   "id": "fb88d5e1-95f1-4638-846e-a207fd162eae",
   "metadata": {
    "execution": {
     "iopub.execute_input": "2023-01-26T10:36:21.372290Z",
     "iopub.status.busy": "2023-01-26T10:36:21.371160Z",
     "iopub.status.idle": "2023-01-26T10:36:21.384892Z",
     "shell.execute_reply": "2023-01-26T10:36:21.383542Z",
     "shell.execute_reply.started": "2023-01-26T10:36:21.372250Z"
    },
    "tags": []
   },
   "outputs": [
    {
     "data": {
      "text/plain": [
       "b\"\\xe3\\xb0\\xc4B\\x98\\xfc\\x1c\\x14\\x9a\\xfb\\xf4\\xc8\\x99o\\xb9$'\\xaeA\\xe4d\\x9b\\x93L\\xa4\\x95\\x99\\x1bxR\\xb8U\""
      ]
     },
     "execution_count": 39,
     "metadata": {},
     "output_type": "execute_result"
    }
   ],
   "source": [
    "b\"\\xe3\\xb0\\xc4B\\x98\\xfc\\x1c\\x14\\x9a\\xfb\\xf4\\xc8\\x99o\\xb9$'\\xaeA\\xe4d\\x9b\\x93L\\xa4\\x95\\x99\\x1bxR\\xb8U\""
   ]
  },
  {
   "cell_type": "code",
   "execution_count": 40,
   "id": "85ed8bbd-0671-4942-9de6-fab856e97ca2",
   "metadata": {
    "execution": {
     "iopub.execute_input": "2023-01-26T10:37:56.244577Z",
     "iopub.status.busy": "2023-01-26T10:37:56.243988Z",
     "iopub.status.idle": "2023-01-26T10:37:56.257032Z",
     "shell.execute_reply": "2023-01-26T10:37:56.255948Z",
     "shell.execute_reply.started": "2023-01-26T10:37:56.244541Z"
    }
   },
   "outputs": [
    {
     "data": {
      "text/plain": [
       "3"
      ]
     },
     "execution_count": 40,
     "metadata": {},
     "output_type": "execute_result"
    }
   ],
   "source": [
    "1 + \\\n",
    "2"
   ]
  },
  {
   "cell_type": "code",
   "execution_count": 43,
   "id": "40dcf7cb-3835-4e84-9718-6d123d34d99a",
   "metadata": {
    "execution": {
     "iopub.execute_input": "2023-01-26T10:53:51.995184Z",
     "iopub.status.busy": "2023-01-26T10:53:51.994735Z",
     "iopub.status.idle": "2023-01-26T10:53:52.017389Z",
     "shell.execute_reply": "2023-01-26T10:53:52.015280Z",
     "shell.execute_reply.started": "2023-01-26T10:53:51.995150Z"
    },
    "tags": []
   },
   "outputs": [
    {
     "ename": "AttributeError",
     "evalue": "'LamportClock' object has no attribute 'copy'",
     "output_type": "error",
     "traceback": [
      "\u001b[0;31m---------------------------------------------------------------------------\u001b[0m",
      "\u001b[0;31mAttributeError\u001b[0m                            Traceback (most recent call last)",
      "Cell \u001b[0;32mIn [43], line 1\u001b[0m\n\u001b[0;32m----> 1\u001b[0m \u001b[43mLamportClock\u001b[49m\u001b[43m(\u001b[49m\u001b[38;5;241;43m2\u001b[39;49m\u001b[43m,\u001b[49m\u001b[43m \u001b[49m\u001b[38;5;241;43m1\u001b[39;49m\u001b[43m)\u001b[49m\u001b[38;5;241;43m.\u001b[39;49m\u001b[43mcopy\u001b[49m()\n",
      "\u001b[0;31mAttributeError\u001b[0m: 'LamportClock' object has no attribute 'copy'"
     ]
    }
   ],
   "source": [
    "LamportClock(2, 1)."
   ]
  },
  {
   "cell_type": "code",
   "execution_count": null,
   "id": "2b8ba198-3166-4e6c-810e-e4a241fdd95d",
   "metadata": {},
   "outputs": [],
   "source": []
  }
 ],
 "metadata": {
  "kernelspec": {
   "display_name": "Python 3 (ipykernel)",
   "language": "python",
   "name": "python3"
  },
  "language_info": {
   "codemirror_mode": {
    "name": "ipython",
    "version": 3
   },
   "file_extension": ".py",
   "mimetype": "text/x-python",
   "name": "python",
   "nbconvert_exporter": "python",
   "pygments_lexer": "ipython3",
   "version": "3.9.16"
  }
 },
 "nbformat": 4,
 "nbformat_minor": 5
}
